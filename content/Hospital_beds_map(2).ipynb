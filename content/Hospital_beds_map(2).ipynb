{
 "cells": [
  {
   "cell_type": "code",
   "execution_count": null,
   "id": "9c765084",
   "metadata": {},
   "outputs": [],
   "source": [
    "import numpy as np\n",
    "import pandas as pd\n",
    "import geopandas as gpd\n",
    "import matplotlib      # pip install matplotlib\n",
    "matplotlib.use('agg')\n",
    "import matplotlib.pyplot as plt\n",
    "from ipywidgets import interact, interactive\n",
    "from IPython.display import display\n",
    "import folium"
   ]
  },
  {
   "cell_type": "code",
   "execution_count": null,
   "id": "65fc3a48",
   "metadata": {},
   "outputs": [],
   "source": [
    "def table_clean():\n",
    "    df_hosp_beds = pd.read_csv('https://raw.githubusercontent.com/healthbiodatascientist/Health-Dash/refs/heads/main/beds_by_nhs_board-of-treatment_specialty.csv') # Open Public Health Scotland Hospital Beds Data\n",
    "    df_map = gpd.read_file('https://github.com/healthbiodatascientist/Health-Dash/raw/refs/heads/main/SG_NHS_HealthBoards_2019.shp') # Scottish Health Board Region Names and Geometries\n",
    "    df_map = df_map.filter(items=['HBCode', 'HBName', 'geometry']) # filter for the columns we need\n",
    "    df_map = df_map.set_index('HBCode') # set the index to the Health Board Code\n",
    "    df_hb_beds = df_map.join(df_hosp_beds.set_index('HB'), on='HBCode') # Join the tables\n",
    "    df_hb_beds = df_hb_beds.filter(items=['FinancialYear', 'SpecialtyName', 'HBName', 'PercentageOccupancy', 'AverageAvailableStaffedBeds', 'AllStaffedBeds', 'geometry']) # filter\n",
    "    return df_hb_beds\n",
    "df_hb_beds = table_clean()"
   ]
  },
  {
   "cell_type": "code",
   "execution_count": null,
   "id": "7944c30f",
   "metadata": {},
   "outputs": [],
   "source": [
    "years = np.unique(df_hb_beds['FinancialYear'].values) # setup the values for the filters\n",
    "specialties = np.unique(df_hb_beds['SpecialtyName'].values)\n",
    "data_categories = df_hb_beds.columns[3:6]"
   ]
  },
  {
   "cell_type": "code",
   "execution_count": null,
   "id": "22d21b8b",
   "metadata": {},
   "outputs": [],
   "source": [
    "def filter_table(year, specialty, data_category):\n",
    "    # filters the table based on the dropdowns and produces the map\n",
    "    df_hb_beds = table_clean()\n",
    "    df_hb_beds = df_hb_beds.loc[df_hb_beds['FinancialYear'].str.startswith(year, na=False)] # filter for year\n",
    "    df_hb_beds = df_hb_beds.loc[df_hb_beds['SpecialtyName'] == specialty] # filter for specialism\n",
    "    df_hb_beds = df_hb_beds.filter(items= ['HBName', data_category, 'geometry'])\n",
    "    foliummap = folium.Map(location=[55.941457, -3.205744], zoom_start=6)\n",
    "    mapped = df_hb_beds.explore(m=foliummap, column='HBName')\n",
    "    mapped.save('foliummap.html')\n",
    "    return mapped"
   ]
  },
  {
   "cell_type": "code",
   "execution_count": null,
   "id": "a21aedd6",
   "metadata": {
    "scrolled": true
   },
   "outputs": [],
   "source": [
    "dropdowns = interactive(filter_table, year=years, specialty=specialties, data_category=data_categories) # run the function above\n",
    "display(dropdowns)"
   ]
  },
  {
   "cell_type": "code",
   "execution_count": null,
   "id": "3bea5dec-d53c-4f4a-9321-e50f50126790",
   "metadata": {},
   "outputs": [],
   "source": [
    "dropdowns.result"
   ]
  }
 ],
 "metadata": {
  "kernelspec": {
   "display_name": "Python 3 (ipykernel)",
   "language": "python",
   "name": "python3"
  },
  "language_info": {
   "codemirror_mode": {
    "name": "ipython",
    "version": 3
   },
   "file_extension": ".py",
   "mimetype": "text/x-python",
   "name": "python",
   "nbconvert_exporter": "python",
   "pygments_lexer": "ipython3",
   "version": "3.13.5"
  },
  "widgets": {
   "application/vnd.jupyter.widget-state+json": {
    "state": {},
    "version_major": 2,
    "version_minor": 0
   }
  }
 },
 "nbformat": 4,
 "nbformat_minor": 5
}
